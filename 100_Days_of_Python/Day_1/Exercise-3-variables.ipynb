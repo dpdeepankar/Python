{
 "cells": [
  {
   "cell_type": "code",
   "execution_count": 1,
   "id": "9be2fcd6",
   "metadata": {},
   "outputs": [
    {
     "name": "stdout",
     "output_type": "stream",
     "text": [
      "What is your name?Deep\n"
     ]
    }
   ],
   "source": [
    "name = input(\"What is your name?\")"
   ]
  },
  {
   "cell_type": "code",
   "execution_count": 2,
   "id": "4d7f661c",
   "metadata": {},
   "outputs": [
    {
     "name": "stdout",
     "output_type": "stream",
     "text": [
      "Deep\n"
     ]
    }
   ],
   "source": [
    "print(name)"
   ]
  },
  {
   "cell_type": "code",
   "execution_count": 4,
   "id": "1d4e5939",
   "metadata": {},
   "outputs": [
    {
     "name": "stdout",
     "output_type": "stream",
     "text": [
      "Hello Deep !\n"
     ]
    }
   ],
   "source": [
    "print(\"Hello\",name,\"!\")"
   ]
  },
  {
   "cell_type": "code",
   "execution_count": 7,
   "id": "a8ae2c9c",
   "metadata": {},
   "outputs": [
    {
     "name": "stdout",
     "output_type": "stream",
     "text": [
      "a: 5\n",
      "b: 10\n"
     ]
    }
   ],
   "source": [
    "#swap values\n",
    "\n",
    "a = input(\"a: \")\n",
    "b = input(\"b: \")"
   ]
  },
  {
   "cell_type": "code",
   "execution_count": 10,
   "id": "800de08f",
   "metadata": {},
   "outputs": [],
   "source": [
    "#method one - old method\n",
    "c = a\n",
    "a = b\n",
    "b = c\n"
   ]
  },
  {
   "cell_type": "code",
   "execution_count": 11,
   "id": "0c94d20b",
   "metadata": {},
   "outputs": [
    {
     "name": "stdout",
     "output_type": "stream",
     "text": [
      "a = 5 ,b =  10\n"
     ]
    }
   ],
   "source": [
    "print(\"a =\",a,\",b = \",b)"
   ]
  },
  {
   "cell_type": "code",
   "execution_count": 12,
   "id": "937fd54f",
   "metadata": {},
   "outputs": [],
   "source": [
    "#method two - new method\n",
    "a,b = b,a"
   ]
  },
  {
   "cell_type": "code",
   "execution_count": 13,
   "id": "43a6f6e2",
   "metadata": {},
   "outputs": [
    {
     "name": "stdout",
     "output_type": "stream",
     "text": [
      "a = 10 ,b =  5\n"
     ]
    }
   ],
   "source": [
    "print(\"a =\",a,\",b = \",b)"
   ]
  },
  {
   "cell_type": "code",
   "execution_count": null,
   "id": "6bb44700",
   "metadata": {},
   "outputs": [],
   "source": []
  }
 ],
 "metadata": {
  "kernelspec": {
   "display_name": "Python 3 (ipykernel)",
   "language": "python",
   "name": "python3"
  },
  "language_info": {
   "codemirror_mode": {
    "name": "ipython",
    "version": 3
   },
   "file_extension": ".py",
   "mimetype": "text/x-python",
   "name": "python",
   "nbconvert_exporter": "python",
   "pygments_lexer": "ipython3",
   "version": "3.10.8"
  }
 },
 "nbformat": 4,
 "nbformat_minor": 5
}
