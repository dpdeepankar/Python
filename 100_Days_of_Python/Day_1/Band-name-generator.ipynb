{
 "cells": [
  {
   "cell_type": "code",
   "execution_count": null,
   "id": "65a966fc",
   "metadata": {},
   "outputs": [],
   "source": [
    "#Greeting for your program\n",
    "print(\"Welcome to Band Name Generator.\")\n",
    "\n",
    "#Ask user where he grew in \n",
    "cityname = input(\"What's name of the city you grew in?\")\n",
    "\n",
    "#Ask user what is their pet's name\n",
    "petname = input(\"what's your pet's name?\")\n",
    "\n",
    "#Method 1 for combining the variable and printing\n",
    "print(\"Your band name could be\",cityname,petname)\n",
    "\n",
    "#Method 2 for combining the variable and printing\n",
    "print(\"Your band name could be \"+cityname+\" \"+petname)"
   ]
  },
  {
   "cell_type": "code",
   "execution_count": null,
   "id": "b5adc9c1",
   "metadata": {},
   "outputs": [],
   "source": []
  },
  {
   "cell_type": "code",
   "execution_count": null,
   "id": "dd83fcd9",
   "metadata": {},
   "outputs": [],
   "source": []
  }
 ],
 "metadata": {
  "kernelspec": {
   "display_name": "Python 3 (ipykernel)",
   "language": "python",
   "name": "python3"
  },
  "language_info": {
   "codemirror_mode": {
    "name": "ipython",
    "version": 3
   },
   "file_extension": ".py",
   "mimetype": "text/x-python",
   "name": "python",
   "nbconvert_exporter": "python",
   "pygments_lexer": "ipython3",
   "version": "3.10.8"
  }
 },
 "nbformat": 4,
 "nbformat_minor": 5
}
