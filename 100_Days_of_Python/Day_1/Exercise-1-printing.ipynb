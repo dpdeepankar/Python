{
 "cells": [
  {
   "cell_type": "code",
   "execution_count": 2,
   "id": "ef257692",
   "metadata": {},
   "outputs": [
    {
     "name": "stdout",
     "output_type": "stream",
     "text": [
      "This is my first interaction with Python\n"
     ]
    }
   ],
   "source": [
    "print(\"This is my first interaction with Python\")\n"
   ]
  },
  {
   "cell_type": "code",
   "execution_count": 5,
   "id": "f925f149",
   "metadata": {},
   "outputs": [
    {
     "name": "stdout",
     "output_type": "stream",
     "text": [
      "Day1 - printing with Python\n",
      "The basic syntax for printing in python is:\n",
      "print('what to print')\n"
     ]
    }
   ],
   "source": [
    "print(\"Day1 - printing with Python\")\n",
    "print(\"The basic syntax for printing in python is:\")\n",
    "print(\"print('what to print')\")"
   ]
  },
  {
   "cell_type": "code",
   "execution_count": 8,
   "id": "16d3bd8e",
   "metadata": {},
   "outputs": [
    {
     "name": "stdout",
     "output_type": "stream",
     "text": [
      "hello world!\n",
      "hello world!\n",
      "\n"
     ]
    }
   ],
   "source": [
    "print(\"hello world!\\nhello world!\\n\")"
   ]
  },
  {
   "cell_type": "code",
   "execution_count": 9,
   "id": "7a647703",
   "metadata": {},
   "outputs": [
    {
     "name": "stdout",
     "output_type": "stream",
     "text": [
      "helloTony\n"
     ]
    }
   ],
   "source": [
    "#string concatenation\n",
    "print (\"hello\"+\"Tony\")"
   ]
  },
  {
   "cell_type": "code",
   "execution_count": 10,
   "id": "9ca9242d",
   "metadata": {},
   "outputs": [
    {
     "name": "stdout",
     "output_type": "stream",
     "text": [
      "Hello Tony\n"
     ]
    }
   ],
   "source": [
    "print(\"Hello\"+\" \"+\"Tony\")"
   ]
  },
  {
   "cell_type": "code",
   "execution_count": 11,
   "id": "878e8de2",
   "metadata": {},
   "outputs": [
    {
     "name": "stdout",
     "output_type": "stream",
     "text": [
      "Day 1- String Manipulation\n",
      "String Concatenation is done with the '+' sign.\n",
      "e.g. print(\"Hello \" + \"world\")\n",
      "New lines can be created with a backslash and n.\n"
     ]
    }
   ],
   "source": [
    "#fix the code below\n",
    "#print(Day 1- String Manipulation\")\n",
    "#print(\"String Concatenation is done with the \"+\" sign.\")\n",
    "#  print('e.g. print(\"Hello \" + \"world\")')\n",
    "#print((\"New lines can be created with a backslash and n.\")\n",
    "\n",
    "print(\"Day 1- String Manipulation\")\n",
    "print(\"String Concatenation is done with the '+' sign.\")\n",
    "print('e.g. print(\"Hello \" + \"world\")')\n",
    "print(\"New lines can be created with a backslash and n.\")"
   ]
  },
  {
   "cell_type": "code",
   "execution_count": null,
   "id": "124001f6",
   "metadata": {},
   "outputs": [],
   "source": []
  }
 ],
 "metadata": {
  "kernelspec": {
   "display_name": "Python 3 (ipykernel)",
   "language": "python",
   "name": "python3"
  },
  "language_info": {
   "codemirror_mode": {
    "name": "ipython",
    "version": 3
   },
   "file_extension": ".py",
   "mimetype": "text/x-python",
   "name": "python",
   "nbconvert_exporter": "python",
   "pygments_lexer": "ipython3",
   "version": "3.10.8"
  }
 },
 "nbformat": 4,
 "nbformat_minor": 5
}
